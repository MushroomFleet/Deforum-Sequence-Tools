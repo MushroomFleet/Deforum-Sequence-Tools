{
  "cells": [
    {
      "cell_type": "markdown",
      "metadata": {
        "id": "view-in-github",
        "colab_type": "text"
      },
      "source": [
        "<a href=\"https://colab.research.google.com/github/MushroomFleet/Deforum-Sequence-Tools/blob/main/Deforum_Sequence_ToolsV1.ipynb\" target=\"_parent\"><img src=\"https://colab.research.google.com/assets/colab-badge.svg\" alt=\"Open In Colab\"/></a>"
      ]
    },
    {
      "cell_type": "markdown",
      "metadata": {
        "id": "1lJFS3DwxNGU"
      },
      "source": [
        "###**Google Drive Sync & setup**"
      ]
    },
    {
      "cell_type": "code",
      "source": [
        "from google.colab import drive\n",
        "drive.mount('/content/drive')"
      ],
      "metadata": {
        "colab": {
          "base_uri": "https://localhost:8080/"
        },
        "id": "jkewPHxopHL7",
        "outputId": "82535704-69be-4a03-dac8-fdd944ccb323"
      },
      "execution_count": null,
      "outputs": [
        {
          "output_type": "stream",
          "name": "stdout",
          "text": [
            "Mounted at /content/drive\n"
          ]
        }
      ]
    },
    {
      "cell_type": "markdown",
      "source": [
        "\n",
        "using this Colab you can save hours by automating the creation of prompt sequences to be used in Diffusion Animation tools, like Deforum for Stabe diffusion webui. You can choose the beginning, middle and end of a prompt, then the interval for frame generation and get the sequence for use in generating the frames. You can also choose to grab lines at random from a text file containing a new prompt on each like. We suggest using Caption-Concat on your dataset to accurately build a text file of all the captions used with the model you are going to run. \n",
        "\n",
        "The Strength section allows you to automate a sequence with Linear, Exponential and Cosine, where tyou can select the min/max for the cosine graph while also timing the frequency to get the pattern that you need for your animation."
      ],
      "metadata": {
        "id": "5vS8EAkMAbIo"
      }
    },
    {
      "cell_type": "markdown",
      "metadata": {
        "id": "TWZCMNd95ef7"
      },
      "source": [
        "# Prompt Sequence"
      ]
    },
    {
      "cell_type": "code",
      "source": [
        "import random\n",
        "\n",
        "start_num = 0 # @param {type:'string'}\n",
        "end_num = 2000 # @param {type:'string'}\n",
        "increment = 90 # @param {type:'string'}\n",
        "before_string = \"photo, \" # @param {type:'string'}\n",
        "middle_string = \"Robot Cat \" # @param {type:'string'}\n",
        "end_string = \"<lyco:JohnsonDesuZenkai-V21-Lyco:1.0>\" # @param {type:'string'}\n",
        "save_to_file = True  # @param {type: \"boolean\"}\n",
        "file_path_str = \"/content/Prompt-Seq.txt\"  # @param {type:'string'}\n",
        "inject_file_path_str = \"/content/Prompt-Injection.txt\"  # @param {type:'string'}\n",
        "replace_middle = False  # @param {type: \"boolean\"}\n",
        "\n",
        "# Read the lines from the inject file and choose a random line to use for injection if replace_middle is True\n",
        "if replace_middle:\n",
        "    with open(inject_file_path_str, \"r\") as f:\n",
        "        inject_lines = f.readlines()\n",
        "    inject_line = random.choice(inject_lines).strip()\n",
        "\n",
        "# Replace the middle_string with the injected line if replace_middle is True\n",
        "if replace_middle:\n",
        "    middle_string_list = middle_string.split()\n",
        "    middle_string_list.insert(len(middle_string_list) // 2, inject_line)\n",
        "    middle_string = \" \".join(middle_string_list)\n",
        "\n",
        "# Use a generator expression to generate the lines\n",
        "lines = (f'\"{i}\": \"{before_string}{middle_string}{end_string}\"' for i in range(start_num, end_num + 1, increment))\n",
        "\n",
        "# Use join to create a single output string\n",
        "output = \"\\n\".join(lines)\n",
        "\n",
        "# Save or print the output depending on the value of save_to_file\n",
        "if save_to_file:\n",
        "    with open(file_path_str, \"w\") as f:\n",
        "        f.write(output)\n",
        "else:\n",
        "    print(output)"
      ],
      "metadata": {
        "cellView": "form",
        "id": "CPBBpsfy8X0m"
      },
      "execution_count": 34,
      "outputs": []
    },
    {
      "cell_type": "markdown",
      "source": [
        "# Strength Interpolation\n"
      ],
      "metadata": {
        "id": "dcYzCAJE_y6h"
      }
    },
    {
      "cell_type": "code",
      "source": [
        "import math\n",
        "\n",
        "def get_interpolated_strength_number(interpolation, increment_rate, current_frame_number, max_frame_number, sine_max=None, sine_min=None, frequency_multiplier=1):\n",
        "    if interpolation == \"linear\":\n",
        "        return increment_rate / 100 * (current_frame_number / max_frame_number)\n",
        "    elif interpolation == \"exponential\":\n",
        "        return math.pow(increment_rate, current_frame_number / max_frame_number)\n",
        "    elif interpolation == \"sine\":\n",
        "        if sine_max is None:\n",
        "            sine_max = increment_rate\n",
        "        if sine_min is None:\n",
        "            sine_min = 0\n",
        "        frequency = frequency_multiplier / (max_frame_number - 1)\n",
        "        return (sine_max - sine_min) / 2 * (math.sin(2 * math.pi * frequency * current_frame_number)) + (sine_max + sine_min) / 2\n",
        "\n",
        "Frame_Number = 0\n",
        "# @markdown ### Initial Strength\n",
        "Strength_Number = 0.4 # @param {type:'string'}\n",
        "starting_strength_number = 0.4\n",
        "# @markdown ### Strength Increment\n",
        "increment_rate = 1 # @param {type:'string'}\n",
        "# @markdown ### Interpolation Mode\n",
        "interpolation = \"sine\" # @param [\"\", \"sine\", \"linear\", \"exponential\"]\n",
        "# @markdown ### Maximum Frame Count\n",
        "max_frame_number = 1800 # @param {type:'string'}\n",
        "# @markdown ### Frame Count Interval\n",
        "frame_Increment_step = 30 # @param {type:'string'}\n",
        "# @markdown ### Sine Min Limit\n",
        "Sine_Max = 0.65 # @param {type:'string'}\n",
        "# @markdown ### Sine Max Limit\n",
        "Sine_Min = 0.35 # @param {type:'string'}\n",
        "# @markdown ### Frequency Occilation over Sequence\n",
        "frequency_multiplier = 10 # @param {type:'string'}\n",
        "# @markdown ### (optional) Add the sequence to a Text File\n",
        "save_to_file = True # @param {type: \"boolean\"}\n",
        "file_path = \"/content/Strength-Seq.txt\" # @param {type:'string'}\n",
        "\n",
        "output_string = \"\"\n",
        "\n",
        "while Frame_Number <= max_frame_number:\n",
        "    output_string += str(Frame_Number) + \": (\" + str(round(min(Strength_Number, 1.0), 2)) + \"), \"\n",
        "\n",
        "    Strength_Number = get_interpolated_strength_number(interpolation, increment_rate, Frame_Number, max_frame_number, Sine_Max, Sine_Min, frequency_multiplier)\n",
        "\n",
        "    if Frame_Number == max_frame_number - 1:\n",
        "        Strength_Number = starting_strength_number\n",
        "    \n",
        "    Frame_Number += frame_Increment_step\n",
        "\n",
        "if save_to_file:\n",
        "    with open(file_path, \"w\") as f:\n",
        "        f.write(output_string)\n",
        "\n",
        "print(output_string)"
      ],
      "metadata": {
        "colab": {
          "base_uri": "https://localhost:8080/"
        },
        "cellView": "form",
        "id": "aP-C9DmGMFNh",
        "outputId": "4f7b805c-438d-436b-caf0-fb9567011840"
      },
      "execution_count": 25,
      "outputs": [
        {
          "output_type": "stream",
          "name": "stdout",
          "text": [
            "0: (0.4), 30: (0.5), 60: (0.63), 90: (0.63), 120: (0.5), 150: (0.37), 180: (0.37), 210: (0.5), 240: (0.63), 270: (0.63), 300: (0.5), 330: (0.37), 360: (0.37), 390: (0.5), 420: (0.63), 450: (0.63), 480: (0.5), 510: (0.37), 540: (0.37), 570: (0.5), 600: (0.63), 630: (0.63), 660: (0.5), 690: (0.37), 720: (0.37), 750: (0.5), 780: (0.63), 810: (0.63), 840: (0.5), 870: (0.37), 900: (0.37), 930: (0.5), 960: (0.63), 990: (0.63), 1020: (0.5), 1050: (0.37), 1080: (0.37), 1110: (0.5), 1140: (0.63), 1170: (0.63), 1200: (0.5), 1230: (0.37), 1260: (0.37), 1290: (0.5), 1320: (0.63), 1350: (0.63), 1380: (0.5), 1410: (0.37), 1440: (0.37), 1470: (0.5), 1500: (0.63), 1530: (0.63), 1560: (0.5), 1590: (0.37), 1620: (0.37), 1650: (0.5), 1680: (0.63), 1710: (0.63), 1740: (0.5), 1770: (0.37), 1800: (0.37), \n"
          ]
        }
      ]
    }
  ],
  "metadata": {
    "colab": {
      "provenance": [],
      "include_colab_link": true
    },
    "gpuClass": "standard",
    "kernelspec": {
      "display_name": "Python 3",
      "name": "python3"
    },
    "language_info": {
      "name": "python"
    }
  },
  "nbformat": 4,
  "nbformat_minor": 0
}